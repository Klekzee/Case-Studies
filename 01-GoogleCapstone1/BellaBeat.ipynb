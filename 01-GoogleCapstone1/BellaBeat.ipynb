{
 "cells": [
  {
   "cell_type": "markdown",
   "metadata": {},
   "source": [
    "# Bellabeat: How Can a Wellness Technology Company Play It Smart?\n",
    "\n",
    "![header_img](assets/header_img.png)\n",
    "\n",
    "This case study is part of the **Google Data Analytics Professional Certificate Capstone Project**.\n",
    "\n",
    "\n",
    "Author: John Klenn Andrew P. Dungaran \\\n",
    "Date: April 2024\n",
    "\n",
    "<br>\n",
    "\n",
    "# TABLE OF CONTENTS\n",
    "\n",
    "* [INTRODUCTION](#introduction)\n",
    "    * [Background](#background)\n",
    "    * [Stakeholders and products](#stakeholders-and-products)\n",
    "* [ASK](#step-1-ask)\n",
    "    * [1.1 Business Task](#11-business-task)\n",
    "    * [1.2 Business Objectives](#12-business-objectives)\n",
    "    * [1.3 Deliverables](#13-deliverables)\n",
    "* [PREPARE](#step-2-prepare)\n",
    "    * [2.1 Data Information](#21-data-information)\n",
    "    * [2.2 Data Limitations](#22-data-limitations)\n",
    "* [PROCESS](#step-3-process)\n",
    "    * [3.1 Imports](#31-imports)\n",
    "    * [3.2 Data Cleaning](#32-data-cleaning)\n",
    "    * [3.3 Merging Tables](#33-merging-tables)\n",
    "    * [3.4 Fixing Data Types](#34-fixing-data-types)\n",
    "* [ANALYZE](#step-4-analyze)\n",
    "\n",
    "<br>\n",
    "\n",
    "# INTRODUCTION\n",
    "\n",
    "Welcome to the Bellabeat data analysis case study!\n",
    "\n",
    "In this case study, I will perform real-world tasks of a junior data analyst. In order to answer the key business questions, I will follow the steps of the data analysis process: \n",
    "\n",
    "**Ask, Prepare, Process, Analyze, Share, and Act**. \n",
    "\n",
    "![analysis_process](assets/analysis_process.png)\n",
    "\n",
    "### Background\n",
    "\n",
    "I am a junior data analyst working on the **marketing analyst** team at Bellabeat, a high-tech manufacturer of health-focused products for women. Urška Sršen, cofounder and Chief Creative Officer of Bellabeat, believes that analyzing smart device fitness data could help unlock new growth opportunities for the company.\n",
    "\n",
    "I have been asked to focus on one of Bellabeat’s products and analyze smart device data to gain insight into how consumers are using their smart devices. The insights I discover will then help guide marketing strategy for the company.\n",
    "\n",
    "### Stakeholders and Products\n",
    "\n",
    "* **Stakeholders**\n",
    "\n",
    "    * **Urška Sršen**: Bellabeat’s cofounder and Chief Creative Officer\n",
    "    * **Sando Mur**: Mathematician and Bellabeat’s cofounder; key member of the Bellabeat executive team\n",
    "    * **Bellabeat marketing analytics team**: A team of data analysts responsible for collecting, analyzing, and reporting data that helps guide Bellabeat’s marketing strategy.\n",
    "\n",
    "* **Products**\n",
    "\n",
    "    * **Bellabeat app**: The Bellabeat app provides users with health data related to their activity, sleep, stress, menstrual cycle, and mindfulness habits. This data can help users better understand their current habits and make healthy decisions. The Bellabeat app connects to their line of smart wellness products.\n",
    "    * **Leaf**: Bellabeat’s classic wellness tracker can be worn as a bracelet, necklace, or clip. The Leaf tracker connects to the Bellabeat app to track activity, sleep, and stress.\n",
    "    * **Time**: This wellness watch combines the timeless look of a classic timepiece with smart technology to track user activity, sleep, and stress. The Time watch connects to the Bellabeat app to provide you with insights into your daily wellness.\n",
    "    * **Spring**: This is a water bottle that tracks daily water intake using smart technology to ensure that you are appropriately hydrated throughout the day. The Spring bottle connects to the Bellabeat app to track your hydration levels.\n",
    "    * **Bellabeat membership**: Bellabeat also offers a subscription-based membership program for users. Membership gives users 24/7 access to fully personalized guidance on nutrition, activity, sleep, health and beauty, and mindfulness based on their lifestyle and goals.\n",
    "\n",
    "<br>\n",
    "<br>\n",
    "\n",
    "# STEP 1: ASK\n",
    "\n",
    "### 1.1 Business Task\n",
    "\n",
    "Analyze smart device usage data in order to gain insight into how consumers use non-Bellabeat smart devices. Then, select one Bellabeat product to apply these insights for Bellabeat marketing strategy.\n",
    "\n",
    "### 1.2 Business Objectives\n",
    "\n",
    "1. What are the trends identified?\n",
    "2. How could these trends apply to Bellabeat customers?\n",
    "3. How could these trends help influence Bellabeat marketing strategy?\n",
    "\n",
    "### 1.3 Deliverables\n",
    "\n",
    "1. A clear summary of the business task\n",
    "2. A description of all data sources used\n",
    "3. Documentation of any cleaning or manipulation of data\n",
    "4. A summary of your analysis\n",
    "5. Supporting visualizations and key findings\n",
    "6. Your top high-level content recommendations based on your analysis\n",
    "\n",
    "<br>\n",
    "<br>\n",
    "\n",
    "# STEP 2: PREPARE\n",
    "\n",
    "### 2.1 Data Information\n",
    "\n",
    "* The data was retrieve publicly from Kaggle: [FitBit Fitness Tracker Data](https://www.kaggle.com/datasets/arashnic/fitbit).\n",
    "* The database is segmented into 18 different csv files with lots of details about the user's behaviour.\n",
    "* It contains personal fitness tracker from thirty (30) fitbit users who gave their consent.\n",
    "* The data includes minute-level output for physical activities, heart rate, sleep monitoring, daily activity, and steps.\n",
    "\n",
    "### 2.2 Data Limitations\n",
    "\n",
    "* **Small Sample Size**: The sample size of 30 female users is not representative of the entire female population.\n",
    "* **Outdated**: Data collected from 2016. Daily activities from users may have changed overtime making the data unreliable.\n",
    "* **Prone to Bias**: The data did not provide demographic information other than that they are all female which could lead to bias or discrepancies in the analysis.\n",
    "\n",
    "<br>\n",
    "<br>\n",
    "\n",
    "# STEP 3: PROCESS\n",
    "\n",
    "The tool which I will be using is Python since it can do Data Preparation, Analysis, and Visualization.\n"
   ]
  },
  {
   "cell_type": "markdown",
   "metadata": {},
   "source": [
    "### 3.1 Imports"
   ]
  },
  {
   "cell_type": "code",
   "execution_count": 1,
   "metadata": {},
   "outputs": [],
   "source": [
    "# Importing libraries.\n",
    "\n",
    "import pandas as pd\n",
    "import numpy as np\n",
    "import matplotlib.pyplot as plt\n",
    "import seaborn as sns\n",
    "\n",
    "plt.style.use('ggplot')"
   ]
  },
  {
   "cell_type": "code",
   "execution_count": 2,
   "metadata": {},
   "outputs": [],
   "source": [
    "# Importing the data.\n",
    "\n",
    "df_daily_activity = pd.read_csv('Datasets/Fitabase Data 4.12.16-5.12.16/dailyActivity_merged.csv')\n",
    "df_hourly_intensities = pd.read_csv('Datasets/Fitabase Data 4.12.16-5.12.16/hourlyIntensities_merged.csv')\n",
    "df_hourly_steps = pd.read_csv('Datasets/Fitabase Data 4.12.16-5.12.16/hourlySteps_merged.csv')\n",
    "df_hourly_calories = pd.read_csv('Datasets/Fitabase Data 4.12.16-5.12.16/hourlyCalories_merged.csv')\n",
    "df_sleep_day = pd.read_csv('Datasets/Fitabase Data 4.12.16-5.12.16/sleepDay_merged.csv')\n",
    "df_weight_log = pd.read_csv('Datasets/Fitabase Data 4.12.16-5.12.16/weightLogInfo_merged.csv')"
   ]
  },
  {
   "cell_type": "markdown",
   "metadata": {},
   "source": [
    "### 3.2 Data Cleaning\n"
   ]
  },
  {
   "cell_type": "code",
   "execution_count": 3,
   "metadata": {},
   "outputs": [
    {
     "data": {
      "text/plain": [
       "False    940\n",
       "Name: count, dtype: int64"
      ]
     },
     "metadata": {},
     "output_type": "display_data"
    },
    {
     "data": {
      "text/plain": [
       "False    22099\n",
       "Name: count, dtype: int64"
      ]
     },
     "metadata": {},
     "output_type": "display_data"
    },
    {
     "data": {
      "text/plain": [
       "False    22099\n",
       "Name: count, dtype: int64"
      ]
     },
     "metadata": {},
     "output_type": "display_data"
    },
    {
     "data": {
      "text/plain": [
       "False    22099\n",
       "Name: count, dtype: int64"
      ]
     },
     "metadata": {},
     "output_type": "display_data"
    },
    {
     "data": {
      "text/plain": [
       "False    410\n",
       "True       3\n",
       "Name: count, dtype: int64"
      ]
     },
     "metadata": {},
     "output_type": "display_data"
    },
    {
     "data": {
      "text/plain": [
       "False    67\n",
       "Name: count, dtype: int64"
      ]
     },
     "metadata": {},
     "output_type": "display_data"
    }
   ],
   "source": [
    "# Checking for duplicates.\n",
    "\n",
    "display(df_daily_activity.duplicated().value_counts())\n",
    "display(df_hourly_intensities.duplicated().value_counts())\n",
    "display(df_hourly_steps.duplicated().value_counts())\n",
    "display(df_hourly_calories.duplicated().value_counts())\n",
    "display(df_sleep_day.duplicated().value_counts())\n",
    "display(df_weight_log.duplicated().value_counts())\n"
   ]
  },
  {
   "cell_type": "markdown",
   "metadata": {},
   "source": [
    "<br>\n",
    "\n",
    "There are 3 duplicates on the `df_sleep_day` dataframe. We should investigate this further.\n",
    "\n",
    "<br>"
   ]
  },
  {
   "cell_type": "code",
   "execution_count": 4,
   "metadata": {},
   "outputs": [
    {
     "data": {
      "text/html": [
       "<div>\n",
       "<style scoped>\n",
       "    .dataframe tbody tr th:only-of-type {\n",
       "        vertical-align: middle;\n",
       "    }\n",
       "\n",
       "    .dataframe tbody tr th {\n",
       "        vertical-align: top;\n",
       "    }\n",
       "\n",
       "    .dataframe thead th {\n",
       "        text-align: right;\n",
       "    }\n",
       "</style>\n",
       "<table border=\"1\" class=\"dataframe\">\n",
       "  <thead>\n",
       "    <tr style=\"text-align: right;\">\n",
       "      <th></th>\n",
       "      <th>Id</th>\n",
       "      <th>SleepDay</th>\n",
       "      <th>TotalSleepRecords</th>\n",
       "      <th>TotalMinutesAsleep</th>\n",
       "      <th>TotalTimeInBed</th>\n",
       "    </tr>\n",
       "  </thead>\n",
       "  <tbody>\n",
       "    <tr>\n",
       "      <th>161</th>\n",
       "      <td>4388161847</td>\n",
       "      <td>5/5/2016 12:00:00 AM</td>\n",
       "      <td>1</td>\n",
       "      <td>471</td>\n",
       "      <td>495</td>\n",
       "    </tr>\n",
       "    <tr>\n",
       "      <th>223</th>\n",
       "      <td>4702921684</td>\n",
       "      <td>5/7/2016 12:00:00 AM</td>\n",
       "      <td>1</td>\n",
       "      <td>520</td>\n",
       "      <td>543</td>\n",
       "    </tr>\n",
       "    <tr>\n",
       "      <th>380</th>\n",
       "      <td>8378563200</td>\n",
       "      <td>4/25/2016 12:00:00 AM</td>\n",
       "      <td>1</td>\n",
       "      <td>388</td>\n",
       "      <td>402</td>\n",
       "    </tr>\n",
       "  </tbody>\n",
       "</table>\n",
       "</div>"
      ],
      "text/plain": [
       "             Id               SleepDay  TotalSleepRecords  TotalMinutesAsleep  \\\n",
       "161  4388161847   5/5/2016 12:00:00 AM                  1                 471   \n",
       "223  4702921684   5/7/2016 12:00:00 AM                  1                 520   \n",
       "380  8378563200  4/25/2016 12:00:00 AM                  1                 388   \n",
       "\n",
       "     TotalTimeInBed  \n",
       "161             495  \n",
       "223             543  \n",
       "380             402  "
      ]
     },
     "execution_count": 4,
     "metadata": {},
     "output_type": "execute_result"
    }
   ],
   "source": [
    "# Finding the duplicated values. The output will show the 2nd time the values occured.\n",
    "\n",
    "df_sleep_day.loc[df_sleep_day.duplicated()]"
   ]
  },
  {
   "cell_type": "code",
   "execution_count": 5,
   "metadata": {},
   "outputs": [
    {
     "data": {
      "text/html": [
       "<div>\n",
       "<style scoped>\n",
       "    .dataframe tbody tr th:only-of-type {\n",
       "        vertical-align: middle;\n",
       "    }\n",
       "\n",
       "    .dataframe tbody tr th {\n",
       "        vertical-align: top;\n",
       "    }\n",
       "\n",
       "    .dataframe thead th {\n",
       "        text-align: right;\n",
       "    }\n",
       "</style>\n",
       "<table border=\"1\" class=\"dataframe\">\n",
       "  <thead>\n",
       "    <tr style=\"text-align: right;\">\n",
       "      <th></th>\n",
       "      <th>Id</th>\n",
       "      <th>SleepDay</th>\n",
       "      <th>TotalSleepRecords</th>\n",
       "      <th>TotalMinutesAsleep</th>\n",
       "      <th>TotalTimeInBed</th>\n",
       "    </tr>\n",
       "  </thead>\n",
       "  <tbody>\n",
       "    <tr>\n",
       "      <th>160</th>\n",
       "      <td>4388161847</td>\n",
       "      <td>5/5/2016 12:00:00 AM</td>\n",
       "      <td>1</td>\n",
       "      <td>471</td>\n",
       "      <td>495</td>\n",
       "    </tr>\n",
       "    <tr>\n",
       "      <th>161</th>\n",
       "      <td>4388161847</td>\n",
       "      <td>5/5/2016 12:00:00 AM</td>\n",
       "      <td>1</td>\n",
       "      <td>471</td>\n",
       "      <td>495</td>\n",
       "    </tr>\n",
       "  </tbody>\n",
       "</table>\n",
       "</div>"
      ],
      "text/plain": [
       "             Id              SleepDay  TotalSleepRecords  TotalMinutesAsleep  \\\n",
       "160  4388161847  5/5/2016 12:00:00 AM                  1                 471   \n",
       "161  4388161847  5/5/2016 12:00:00 AM                  1                 471   \n",
       "\n",
       "     TotalTimeInBed  \n",
       "160             495  \n",
       "161             495  "
      ]
     },
     "metadata": {},
     "output_type": "display_data"
    },
    {
     "data": {
      "text/html": [
       "<div>\n",
       "<style scoped>\n",
       "    .dataframe tbody tr th:only-of-type {\n",
       "        vertical-align: middle;\n",
       "    }\n",
       "\n",
       "    .dataframe tbody tr th {\n",
       "        vertical-align: top;\n",
       "    }\n",
       "\n",
       "    .dataframe thead th {\n",
       "        text-align: right;\n",
       "    }\n",
       "</style>\n",
       "<table border=\"1\" class=\"dataframe\">\n",
       "  <thead>\n",
       "    <tr style=\"text-align: right;\">\n",
       "      <th></th>\n",
       "      <th>Id</th>\n",
       "      <th>SleepDay</th>\n",
       "      <th>TotalSleepRecords</th>\n",
       "      <th>TotalMinutesAsleep</th>\n",
       "      <th>TotalTimeInBed</th>\n",
       "    </tr>\n",
       "  </thead>\n",
       "  <tbody>\n",
       "    <tr>\n",
       "      <th>222</th>\n",
       "      <td>4702921684</td>\n",
       "      <td>5/7/2016 12:00:00 AM</td>\n",
       "      <td>1</td>\n",
       "      <td>520</td>\n",
       "      <td>543</td>\n",
       "    </tr>\n",
       "    <tr>\n",
       "      <th>223</th>\n",
       "      <td>4702921684</td>\n",
       "      <td>5/7/2016 12:00:00 AM</td>\n",
       "      <td>1</td>\n",
       "      <td>520</td>\n",
       "      <td>543</td>\n",
       "    </tr>\n",
       "  </tbody>\n",
       "</table>\n",
       "</div>"
      ],
      "text/plain": [
       "             Id              SleepDay  TotalSleepRecords  TotalMinutesAsleep  \\\n",
       "222  4702921684  5/7/2016 12:00:00 AM                  1                 520   \n",
       "223  4702921684  5/7/2016 12:00:00 AM                  1                 520   \n",
       "\n",
       "     TotalTimeInBed  \n",
       "222             543  \n",
       "223             543  "
      ]
     },
     "metadata": {},
     "output_type": "display_data"
    },
    {
     "data": {
      "text/html": [
       "<div>\n",
       "<style scoped>\n",
       "    .dataframe tbody tr th:only-of-type {\n",
       "        vertical-align: middle;\n",
       "    }\n",
       "\n",
       "    .dataframe tbody tr th {\n",
       "        vertical-align: top;\n",
       "    }\n",
       "\n",
       "    .dataframe thead th {\n",
       "        text-align: right;\n",
       "    }\n",
       "</style>\n",
       "<table border=\"1\" class=\"dataframe\">\n",
       "  <thead>\n",
       "    <tr style=\"text-align: right;\">\n",
       "      <th></th>\n",
       "      <th>Id</th>\n",
       "      <th>SleepDay</th>\n",
       "      <th>TotalSleepRecords</th>\n",
       "      <th>TotalMinutesAsleep</th>\n",
       "      <th>TotalTimeInBed</th>\n",
       "    </tr>\n",
       "  </thead>\n",
       "  <tbody>\n",
       "    <tr>\n",
       "      <th>379</th>\n",
       "      <td>8378563200</td>\n",
       "      <td>4/25/2016 12:00:00 AM</td>\n",
       "      <td>1</td>\n",
       "      <td>388</td>\n",
       "      <td>402</td>\n",
       "    </tr>\n",
       "    <tr>\n",
       "      <th>380</th>\n",
       "      <td>8378563200</td>\n",
       "      <td>4/25/2016 12:00:00 AM</td>\n",
       "      <td>1</td>\n",
       "      <td>388</td>\n",
       "      <td>402</td>\n",
       "    </tr>\n",
       "  </tbody>\n",
       "</table>\n",
       "</div>"
      ],
      "text/plain": [
       "             Id               SleepDay  TotalSleepRecords  TotalMinutesAsleep  \\\n",
       "379  8378563200  4/25/2016 12:00:00 AM                  1                 388   \n",
       "380  8378563200  4/25/2016 12:00:00 AM                  1                 388   \n",
       "\n",
       "     TotalTimeInBed  \n",
       "379             402  \n",
       "380             402  "
      ]
     },
     "metadata": {},
     "output_type": "display_data"
    }
   ],
   "source": [
    "# Querying the duplicated values.\n",
    "\n",
    "display(df_sleep_day.query('TotalMinutesAsleep == 471 & TotalTimeInBed == 495'))\n",
    "display(df_sleep_day.query('TotalMinutesAsleep == 520 & TotalTimeInBed == 543'))\n",
    "display(df_sleep_day.query('TotalMinutesAsleep == 388 & TotalTimeInBed == 402'))"
   ]
  },
  {
   "cell_type": "markdown",
   "metadata": {},
   "source": [
    "<br>\n",
    "\n",
    "From this investigation, the values are verified to be duplicated thus we need to delete them.\n",
    "\n",
    "<br>"
   ]
  },
  {
   "cell_type": "code",
   "execution_count": 6,
   "metadata": {},
   "outputs": [
    {
     "data": {
      "text/plain": [
       "False    410\n",
       "Name: count, dtype: int64"
      ]
     },
     "execution_count": 6,
     "metadata": {},
     "output_type": "execute_result"
    }
   ],
   "source": [
    "# Deleting the duplicate values.\n",
    "\n",
    "df_sleep_day = df_sleep_day.loc[~df_sleep_day.duplicated()].copy()\n",
    "\n",
    "# Checking.\n",
    "\n",
    "df_sleep_day.duplicated().value_counts()"
   ]
  },
  {
   "cell_type": "markdown",
   "metadata": {},
   "source": [
    "### 3.3 Merging Tables"
   ]
  },
  {
   "cell_type": "code",
   "execution_count": 7,
   "metadata": {},
   "outputs": [
    {
     "data": {
      "text/html": [
       "<div>\n",
       "<style scoped>\n",
       "    .dataframe tbody tr th:only-of-type {\n",
       "        vertical-align: middle;\n",
       "    }\n",
       "\n",
       "    .dataframe tbody tr th {\n",
       "        vertical-align: top;\n",
       "    }\n",
       "\n",
       "    .dataframe thead th {\n",
       "        text-align: right;\n",
       "    }\n",
       "</style>\n",
       "<table border=\"1\" class=\"dataframe\">\n",
       "  <thead>\n",
       "    <tr style=\"text-align: right;\">\n",
       "      <th></th>\n",
       "      <th>Id</th>\n",
       "      <th>ActivityHour</th>\n",
       "      <th>TotalIntensity</th>\n",
       "      <th>AverageIntensity</th>\n",
       "      <th>StepTotal</th>\n",
       "      <th>Calories</th>\n",
       "    </tr>\n",
       "  </thead>\n",
       "  <tbody>\n",
       "    <tr>\n",
       "      <th>0</th>\n",
       "      <td>1503960366</td>\n",
       "      <td>4/12/2016 12:00:00 AM</td>\n",
       "      <td>20</td>\n",
       "      <td>0.333333</td>\n",
       "      <td>373</td>\n",
       "      <td>81</td>\n",
       "    </tr>\n",
       "    <tr>\n",
       "      <th>1</th>\n",
       "      <td>1503960366</td>\n",
       "      <td>4/12/2016 1:00:00 AM</td>\n",
       "      <td>8</td>\n",
       "      <td>0.133333</td>\n",
       "      <td>160</td>\n",
       "      <td>61</td>\n",
       "    </tr>\n",
       "    <tr>\n",
       "      <th>2</th>\n",
       "      <td>1503960366</td>\n",
       "      <td>4/12/2016 2:00:00 AM</td>\n",
       "      <td>7</td>\n",
       "      <td>0.116667</td>\n",
       "      <td>151</td>\n",
       "      <td>59</td>\n",
       "    </tr>\n",
       "    <tr>\n",
       "      <th>3</th>\n",
       "      <td>1503960366</td>\n",
       "      <td>4/12/2016 3:00:00 AM</td>\n",
       "      <td>0</td>\n",
       "      <td>0.000000</td>\n",
       "      <td>0</td>\n",
       "      <td>47</td>\n",
       "    </tr>\n",
       "    <tr>\n",
       "      <th>4</th>\n",
       "      <td>1503960366</td>\n",
       "      <td>4/12/2016 4:00:00 AM</td>\n",
       "      <td>0</td>\n",
       "      <td>0.000000</td>\n",
       "      <td>0</td>\n",
       "      <td>48</td>\n",
       "    </tr>\n",
       "    <tr>\n",
       "      <th>...</th>\n",
       "      <td>...</td>\n",
       "      <td>...</td>\n",
       "      <td>...</td>\n",
       "      <td>...</td>\n",
       "      <td>...</td>\n",
       "      <td>...</td>\n",
       "    </tr>\n",
       "    <tr>\n",
       "      <th>22094</th>\n",
       "      <td>8877689391</td>\n",
       "      <td>5/12/2016 10:00:00 AM</td>\n",
       "      <td>12</td>\n",
       "      <td>0.200000</td>\n",
       "      <td>514</td>\n",
       "      <td>126</td>\n",
       "    </tr>\n",
       "    <tr>\n",
       "      <th>22095</th>\n",
       "      <td>8877689391</td>\n",
       "      <td>5/12/2016 11:00:00 AM</td>\n",
       "      <td>29</td>\n",
       "      <td>0.483333</td>\n",
       "      <td>1407</td>\n",
       "      <td>192</td>\n",
       "    </tr>\n",
       "    <tr>\n",
       "      <th>22096</th>\n",
       "      <td>8877689391</td>\n",
       "      <td>5/12/2016 12:00:00 PM</td>\n",
       "      <td>93</td>\n",
       "      <td>1.550000</td>\n",
       "      <td>3135</td>\n",
       "      <td>321</td>\n",
       "    </tr>\n",
       "    <tr>\n",
       "      <th>22097</th>\n",
       "      <td>8877689391</td>\n",
       "      <td>5/12/2016 1:00:00 PM</td>\n",
       "      <td>6</td>\n",
       "      <td>0.100000</td>\n",
       "      <td>307</td>\n",
       "      <td>101</td>\n",
       "    </tr>\n",
       "    <tr>\n",
       "      <th>22098</th>\n",
       "      <td>8877689391</td>\n",
       "      <td>5/12/2016 2:00:00 PM</td>\n",
       "      <td>9</td>\n",
       "      <td>0.150000</td>\n",
       "      <td>457</td>\n",
       "      <td>113</td>\n",
       "    </tr>\n",
       "  </tbody>\n",
       "</table>\n",
       "<p>22099 rows × 6 columns</p>\n",
       "</div>"
      ],
      "text/plain": [
       "               Id           ActivityHour  TotalIntensity  AverageIntensity  \\\n",
       "0      1503960366  4/12/2016 12:00:00 AM              20          0.333333   \n",
       "1      1503960366   4/12/2016 1:00:00 AM               8          0.133333   \n",
       "2      1503960366   4/12/2016 2:00:00 AM               7          0.116667   \n",
       "3      1503960366   4/12/2016 3:00:00 AM               0          0.000000   \n",
       "4      1503960366   4/12/2016 4:00:00 AM               0          0.000000   \n",
       "...           ...                    ...             ...               ...   \n",
       "22094  8877689391  5/12/2016 10:00:00 AM              12          0.200000   \n",
       "22095  8877689391  5/12/2016 11:00:00 AM              29          0.483333   \n",
       "22096  8877689391  5/12/2016 12:00:00 PM              93          1.550000   \n",
       "22097  8877689391   5/12/2016 1:00:00 PM               6          0.100000   \n",
       "22098  8877689391   5/12/2016 2:00:00 PM               9          0.150000   \n",
       "\n",
       "       StepTotal  Calories  \n",
       "0            373        81  \n",
       "1            160        61  \n",
       "2            151        59  \n",
       "3              0        47  \n",
       "4              0        48  \n",
       "...          ...       ...  \n",
       "22094        514       126  \n",
       "22095       1407       192  \n",
       "22096       3135       321  \n",
       "22097        307       101  \n",
       "22098        457       113  \n",
       "\n",
       "[22099 rows x 6 columns]"
      ]
     },
     "metadata": {},
     "output_type": "display_data"
    },
    {
     "name": "stdout",
     "output_type": "stream",
     "text": [
      "<class 'pandas.core.frame.DataFrame'>\n",
      "RangeIndex: 22099 entries, 0 to 22098\n",
      "Data columns (total 6 columns):\n",
      " #   Column            Non-Null Count  Dtype  \n",
      "---  ------            --------------  -----  \n",
      " 0   Id                22099 non-null  int64  \n",
      " 1   ActivityHour      22099 non-null  object \n",
      " 2   TotalIntensity    22099 non-null  int64  \n",
      " 3   AverageIntensity  22099 non-null  float64\n",
      " 4   StepTotal         22099 non-null  int64  \n",
      " 5   Calories          22099 non-null  int64  \n",
      "dtypes: float64(1), int64(4), object(1)\n",
      "memory usage: 1.0+ MB\n"
     ]
    }
   ],
   "source": [
    "# Joining the Hourly tables.\n",
    "\n",
    "df_hourly = pd.merge(left=df_hourly_intensities, right=df_hourly_steps, how='inner', on=['Id', 'ActivityHour'])\n",
    "df_hourly = pd.merge(left=df_hourly, right=df_hourly_calories, how='inner', on=['Id', 'ActivityHour'])\n",
    "\n",
    "display(df_hourly)\n",
    "df_hourly.info()"
   ]
  },
  {
   "cell_type": "markdown",
   "metadata": {},
   "source": [
    "### 3.4 Fixing Data Types"
   ]
  },
  {
   "cell_type": "code",
   "execution_count": 9,
   "metadata": {},
   "outputs": [
    {
     "name": "stdout",
     "output_type": "stream",
     "text": [
      "<class 'pandas.core.frame.DataFrame'>\n",
      "RangeIndex: 940 entries, 0 to 939\n",
      "Data columns (total 15 columns):\n",
      " #   Column                    Non-Null Count  Dtype  \n",
      "---  ------                    --------------  -----  \n",
      " 0   Id                        940 non-null    int64  \n",
      " 1   ActivityDate              940 non-null    object \n",
      " 2   TotalSteps                940 non-null    int64  \n",
      " 3   TotalDistance             940 non-null    float64\n",
      " 4   TrackerDistance           940 non-null    float64\n",
      " 5   LoggedActivitiesDistance  940 non-null    float64\n",
      " 6   VeryActiveDistance        940 non-null    float64\n",
      " 7   ModeratelyActiveDistance  940 non-null    float64\n",
      " 8   LightActiveDistance       940 non-null    float64\n",
      " 9   SedentaryActiveDistance   940 non-null    float64\n",
      " 10  VeryActiveMinutes         940 non-null    int64  \n",
      " 11  FairlyActiveMinutes       940 non-null    int64  \n",
      " 12  LightlyActiveMinutes      940 non-null    int64  \n",
      " 13  SedentaryMinutes          940 non-null    int64  \n",
      " 14  Calories                  940 non-null    int64  \n",
      "dtypes: float64(7), int64(7), object(1)\n",
      "memory usage: 110.3+ KB\n"
     ]
    },
    {
     "data": {
      "text/plain": [
       "None"
      ]
     },
     "metadata": {},
     "output_type": "display_data"
    },
    {
     "name": "stdout",
     "output_type": "stream",
     "text": [
      "<class 'pandas.core.frame.DataFrame'>\n",
      "RangeIndex: 22099 entries, 0 to 22098\n",
      "Data columns (total 6 columns):\n",
      " #   Column            Non-Null Count  Dtype  \n",
      "---  ------            --------------  -----  \n",
      " 0   Id                22099 non-null  int64  \n",
      " 1   ActivityHour      22099 non-null  object \n",
      " 2   TotalIntensity    22099 non-null  int64  \n",
      " 3   AverageIntensity  22099 non-null  float64\n",
      " 4   StepTotal         22099 non-null  int64  \n",
      " 5   Calories          22099 non-null  int64  \n",
      "dtypes: float64(1), int64(4), object(1)\n",
      "memory usage: 1.0+ MB\n"
     ]
    },
    {
     "data": {
      "text/plain": [
       "None"
      ]
     },
     "metadata": {},
     "output_type": "display_data"
    },
    {
     "name": "stdout",
     "output_type": "stream",
     "text": [
      "<class 'pandas.core.frame.DataFrame'>\n",
      "Index: 410 entries, 0 to 412\n",
      "Data columns (total 5 columns):\n",
      " #   Column              Non-Null Count  Dtype \n",
      "---  ------              --------------  ----- \n",
      " 0   Id                  410 non-null    int64 \n",
      " 1   SleepDay            410 non-null    object\n",
      " 2   TotalSleepRecords   410 non-null    int64 \n",
      " 3   TotalMinutesAsleep  410 non-null    int64 \n",
      " 4   TotalTimeInBed      410 non-null    int64 \n",
      "dtypes: int64(4), object(1)\n",
      "memory usage: 19.2+ KB\n"
     ]
    },
    {
     "data": {
      "text/plain": [
       "None"
      ]
     },
     "metadata": {},
     "output_type": "display_data"
    },
    {
     "name": "stdout",
     "output_type": "stream",
     "text": [
      "<class 'pandas.core.frame.DataFrame'>\n",
      "RangeIndex: 67 entries, 0 to 66\n",
      "Data columns (total 8 columns):\n",
      " #   Column          Non-Null Count  Dtype  \n",
      "---  ------          --------------  -----  \n",
      " 0   Id              67 non-null     int64  \n",
      " 1   Date            67 non-null     object \n",
      " 2   WeightKg        67 non-null     float64\n",
      " 3   WeightPounds    67 non-null     float64\n",
      " 4   Fat             2 non-null      float64\n",
      " 5   BMI             67 non-null     float64\n",
      " 6   IsManualReport  67 non-null     bool   \n",
      " 7   LogId           67 non-null     int64  \n",
      "dtypes: bool(1), float64(4), int64(2), object(1)\n",
      "memory usage: 3.9+ KB\n"
     ]
    },
    {
     "data": {
      "text/plain": [
       "None"
      ]
     },
     "metadata": {},
     "output_type": "display_data"
    }
   ],
   "source": [
    "# Getting table information.\n",
    "\n",
    "display(df_daily_activity.info())\n",
    "display(df_hourly.info())\n",
    "display(df_sleep_day.info())\n",
    "display(df_weight_log.info())"
   ]
  },
  {
   "cell_type": "markdown",
   "metadata": {},
   "source": [
    "<br>\n",
    "\n",
    "As we can see, the data type for columns with supposed date values are `objects` instead of `datetime`.\n",
    "\n",
    "<br>"
   ]
  },
  {
   "cell_type": "code",
   "execution_count": null,
   "metadata": {},
   "outputs": [],
   "source": [
    "# Fixing the data types.\n",
    "\n",
    "df_daily_activity['ActivityDate'] = pd.to_datetime(df_daily_activity['ActivityDate'])\n",
    "df_hourly['ActivityHour'] = pd.to_datetime(df_hourly['ActivityHour'])\n",
    "df_sleep_day['SleepDay'] = pd.to_datetime(df_sleep_day['SleepDay'])\n",
    "df_weight_log['Date'] = pd.to_datetime(df_weight_log['Date'])"
   ]
  },
  {
   "cell_type": "code",
   "execution_count": 12,
   "metadata": {},
   "outputs": [
    {
     "name": "stdout",
     "output_type": "stream",
     "text": [
      "<class 'pandas.core.frame.DataFrame'>\n",
      "RangeIndex: 940 entries, 0 to 939\n",
      "Data columns (total 15 columns):\n",
      " #   Column                    Non-Null Count  Dtype         \n",
      "---  ------                    --------------  -----         \n",
      " 0   Id                        940 non-null    int64         \n",
      " 1   ActivityDate              940 non-null    datetime64[ns]\n",
      " 2   TotalSteps                940 non-null    int64         \n",
      " 3   TotalDistance             940 non-null    float64       \n",
      " 4   TrackerDistance           940 non-null    float64       \n",
      " 5   LoggedActivitiesDistance  940 non-null    float64       \n",
      " 6   VeryActiveDistance        940 non-null    float64       \n",
      " 7   ModeratelyActiveDistance  940 non-null    float64       \n",
      " 8   LightActiveDistance       940 non-null    float64       \n",
      " 9   SedentaryActiveDistance   940 non-null    float64       \n",
      " 10  VeryActiveMinutes         940 non-null    int64         \n",
      " 11  FairlyActiveMinutes       940 non-null    int64         \n",
      " 12  LightlyActiveMinutes      940 non-null    int64         \n",
      " 13  SedentaryMinutes          940 non-null    int64         \n",
      " 14  Calories                  940 non-null    int64         \n",
      "dtypes: datetime64[ns](1), float64(7), int64(7)\n",
      "memory usage: 110.3 KB\n"
     ]
    }
   ],
   "source": [
    "# Checking\n",
    "\n",
    "df_daily_activity.info()"
   ]
  },
  {
   "cell_type": "markdown",
   "metadata": {},
   "source": [
    "# STEP 4: ANALYZE"
   ]
  },
  {
   "cell_type": "code",
   "execution_count": null,
   "metadata": {},
   "outputs": [],
   "source": []
  }
 ],
 "metadata": {
  "kernelspec": {
   "display_name": "minimal_ds",
   "language": "python",
   "name": "python3"
  },
  "language_info": {
   "codemirror_mode": {
    "name": "ipython",
    "version": 3
   },
   "file_extension": ".py",
   "mimetype": "text/x-python",
   "name": "python",
   "nbconvert_exporter": "python",
   "pygments_lexer": "ipython3",
   "version": "3.12.2"
  }
 },
 "nbformat": 4,
 "nbformat_minor": 2
}
